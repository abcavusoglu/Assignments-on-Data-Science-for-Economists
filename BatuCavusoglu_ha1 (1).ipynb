{
  "cells": [
    {
      "cell_type": "markdown",
      "metadata": {
        "id": "Exm06R1pDrOd"
      },
      "source": [
        "# Home Assignment-1 (Part 2 - practice with data)\n",
        "\n",
        "### **Nothing fancy - just making friends with 🐍 and 🐼**\n",
        "\n",
        "\n",
        "\n",
        "Enjoy✨\n",
        "\n",
        "\n",
        "\n",
        "\n",
        "\n",
        "\n",
        "\n",
        "\n"
      ]
    },
    {
      "cell_type": "code",
      "execution_count": null,
      "metadata": {
        "id": "3PmtkqWpDaCm"
      },
      "outputs": [],
      "source": [
        "print('Hi')"
      ]
    },
    {
      "cell_type": "markdown",
      "metadata": {
        "id": "xX33T2v-Eooy"
      },
      "source": [
        "🧚 Loading data"
      ]
    },
    {
      "cell_type": "code",
      "execution_count": 6,
      "metadata": {
        "id": "YKOE7b5bEn7a"
      },
      "outputs": [],
      "source": [
        "import pandas as pd\n",
        "\n",
        "apps_ = pd.read_csv('https://raw.githubusercontent.com/Shuaynat/DSE-23-24/main/02-classes/googleplaystore.csv')\n",
        "reviews_ = pd.read_csv('https://raw.githubusercontent.com/Shuaynat/DSE-23-24/main/02-classes/googleplaystore_user_reviews.csv')"
      ]
    },
    {
      "cell_type": "markdown",
      "metadata": {
        "id": "Dx2V3UsBNSmL"
      },
      "source": [
        "🧚 Now, before diving into data, let's do small cleaning and change fromat of \"Size\" variable\n",
        "\n",
        "Please, just run the code below, to chang the type.\n",
        "\n",
        "🔗[Documentation: apply](https://pandas.pydata.org/pandas-docs/stable/reference/api/pandas.DataFrame.apply.html)\n",
        "\n"
      ]
    },
    {
      "cell_type": "code",
      "execution_count": 7,
      "metadata": {
        "id": "tgb7Vk3gNO1_",
        "colab": {
          "base_uri": "https://localhost:8080/",
          "height": 228
        },
        "outputId": "929b99da-03e3-4f40-a2bf-be26afc25583"
      },
      "outputs": [
        {
          "output_type": "error",
          "ename": "NameError",
          "evalue": "ignored",
          "traceback": [
            "\u001b[0;31m---------------------------------------------------------------------------\u001b[0m",
            "\u001b[0;31mNameError\u001b[0m                                 Traceback (most recent call last)",
            "\u001b[0;32m<ipython-input-7-6c2d2f3a6800>\u001b[0m in \u001b[0;36m<cell line: 15>\u001b[0;34m()\u001b[0m\n\u001b[1;32m     13\u001b[0m \u001b[0;34m\u001b[0m\u001b[0m\n\u001b[1;32m     14\u001b[0m \u001b[0;31m# Use our custom fucntion to change the variable types\u001b[0m\u001b[0;34m\u001b[0m\u001b[0;34m\u001b[0m\u001b[0m\n\u001b[0;32m---> 15\u001b[0;31m \u001b[0mapps\u001b[0m\u001b[0;34m.\u001b[0m\u001b[0mSize\u001b[0m\u001b[0;34m[\u001b[0m\u001b[0mapps\u001b[0m\u001b[0;34m.\u001b[0m\u001b[0mSize\u001b[0m\u001b[0;34m!=\u001b[0m\u001b[0;34m'Varies with device'\u001b[0m\u001b[0;34m]\u001b[0m \u001b[0;34m=\u001b[0m \u001b[0mapps\u001b[0m\u001b[0;34m.\u001b[0m\u001b[0mSize\u001b[0m\u001b[0;34m[\u001b[0m\u001b[0mapps\u001b[0m\u001b[0;34m.\u001b[0m\u001b[0mSize\u001b[0m\u001b[0;34m!=\u001b[0m\u001b[0;34m'Varies with device'\u001b[0m\u001b[0;34m]\u001b[0m\u001b[0;34m.\u001b[0m\u001b[0mapply\u001b[0m\u001b[0;34m(\u001b[0m\u001b[0mto_number\u001b[0m\u001b[0;34m)\u001b[0m\u001b[0;34m\u001b[0m\u001b[0;34m\u001b[0m\u001b[0m\n\u001b[0m",
            "\u001b[0;31mNameError\u001b[0m: name 'apps' is not defined"
          ]
        }
      ],
      "source": [
        "# Just run the code below\n",
        "# Define the funtion that changes representation of the variable\n",
        "# No coding in needed, yes, and it's not a joke :)\n",
        "def to_number(x):\n",
        "    mult = 1\n",
        "    if x[-1] == \"M\":\n",
        "      mult = 10**6\n",
        "    if x[-1] == \"k\":\n",
        "      mult = 10**3\n",
        "    x_new = x[:-1].replace(\",\", \".\")\n",
        "\n",
        "    return mult*float(x_new)\n",
        "\n",
        "# Use our custom fucntion to change the variable types\n",
        "apps.Size[apps.Size!='Varies with device'] = apps.Size[apps.Size!='Varies with device'].apply(to_number)"
      ]
    },
    {
      "cell_type": "markdown",
      "metadata": {
        "id": "5QdMPtfXLG3O"
      },
      "source": [
        "# Exercises"
      ]
    },
    {
      "cell_type": "markdown",
      "metadata": {
        "id": "dBd7A8kQLaED"
      },
      "source": [
        "# Data analysis"
      ]
    },
    {
      "cell_type": "code",
      "execution_count": 8,
      "metadata": {
        "id": "jwEOBnd5lkA4"
      },
      "outputs": [],
      "source": [
        "apps = apps_.copy()\n",
        "reviews = reviews_.copy()"
      ]
    },
    {
      "cell_type": "markdown",
      "metadata": {
        "id": "apicGompLfFF"
      },
      "source": [
        "## 1.1 What is the mean price of apps with type Paid? (1 point)"
      ]
    },
    {
      "cell_type": "code",
      "execution_count": null,
      "metadata": {
        "id": "GNWK-NqimkWU",
        "colab": {
          "base_uri": "https://localhost:8080/"
        },
        "outputId": "ba94dfdb-78d8-49f5-bd76-ad22fc9aa309"
      },
      "outputs": [
        {
          "output_type": "execute_result",
          "data": {
            "text/plain": [
              "array(['0', '$4.99', '$3.99', '$6.99', '$1.49', '$2.99', '$7.99', '$5.99',\n",
              "       '$3.49', '$1.99', '$9.99', '$7.49', '$0.99', '$9.00', '$5.49',\n",
              "       '$10.00', '$24.99', '$11.99', '$79.99', '$16.99', '$14.99',\n",
              "       '$1.00', '$29.99', '$12.99', '$2.49', '$10.99', '$1.50', '$19.99',\n",
              "       '$15.99', '$33.99', '$74.99', '$39.99', '$3.95', '$4.49', '$1.70',\n",
              "       '$8.99', '$2.00', '$3.88', '$25.99', '$399.99', '$17.99',\n",
              "       '$400.00', '$3.02', '$1.76', '$4.84', '$4.77', '$1.61', '$2.50',\n",
              "       '$1.59', '$6.49', '$1.29', '$5.00', '$13.99', '$299.99', '$379.99',\n",
              "       '$37.99', '$18.99', '$389.99', '$19.90', '$8.49', '$1.75',\n",
              "       '$14.00', '$4.85', '$46.99', '$109.99', '$154.99', '$3.08',\n",
              "       '$2.59', '$4.80', '$1.96', '$19.40', '$3.90', '$4.59', '$15.46',\n",
              "       '$3.04', '$4.29', '$2.60', '$3.28', '$4.60', '$28.99', '$2.95',\n",
              "       '$2.90', '$1.97', '$200.00', '$89.99', '$2.56', '$30.99', '$3.61',\n",
              "       '$394.99', '$1.26', 'Everyone', '$1.20', '$1.04'], dtype=object)"
            ]
          },
          "metadata": {},
          "execution_count": 3
        }
      ],
      "source": [
        "apps.Price.unique()"
      ]
    },
    {
      "cell_type": "code",
      "execution_count": null,
      "metadata": {
        "id": "D4nCM4-JoGeF"
      },
      "outputs": [],
      "source": [
        "apps.Price.replace('Everyone',0,inplace = True)"
      ]
    },
    {
      "cell_type": "code",
      "execution_count": null,
      "metadata": {
        "id": "zcYzKR6FoU9n"
      },
      "outputs": [],
      "source": [
        "apps.Price[apps.Price!=\"0\"] = apps.Price[apps.Price!=\"0\"].str[1:]"
      ]
    },
    {
      "cell_type": "code",
      "execution_count": null,
      "metadata": {
        "id": "MuCP3Y5yq8cg"
      },
      "outputs": [],
      "source": [
        "apps.Price = apps.Price.apply(float)"
      ]
    },
    {
      "cell_type": "code",
      "execution_count": null,
      "metadata": {
        "id": "FqasjQ7KLXjI",
        "colab": {
          "base_uri": "https://localhost:8080/",
          "height": 230
        },
        "outputId": "393c29d2-c752-4ec9-af2b-624744783d4e"
      },
      "outputs": [
        {
          "output_type": "stream",
          "name": "stderr",
          "text": [
            "<ipython-input-9-15126f043b26>:1: FutureWarning: The default value of numeric_only in DataFrameGroupBy.mean is deprecated. In a future version, numeric_only will default to False. Either specify numeric_only or select only columns which should be valid for the function.\n",
            "  apps.groupby(apps[\"Type\"]).agg(\"mean\")\n"
          ]
        },
        {
          "output_type": "execute_result",
          "data": {
            "text/plain": [
              "         Rating      Price\n",
              "Type                      \n",
              "0     19.000000        NaN\n",
              "Free   4.186203   0.000000\n",
              "Paid   4.266615  13.920837"
            ],
            "text/html": [
              "\n",
              "  <div id=\"df-934f2885-9f5a-47a6-9176-f6c7879e0b8b\" class=\"colab-df-container\">\n",
              "    <div>\n",
              "<style scoped>\n",
              "    .dataframe tbody tr th:only-of-type {\n",
              "        vertical-align: middle;\n",
              "    }\n",
              "\n",
              "    .dataframe tbody tr th {\n",
              "        vertical-align: top;\n",
              "    }\n",
              "\n",
              "    .dataframe thead th {\n",
              "        text-align: right;\n",
              "    }\n",
              "</style>\n",
              "<table border=\"1\" class=\"dataframe\">\n",
              "  <thead>\n",
              "    <tr style=\"text-align: right;\">\n",
              "      <th></th>\n",
              "      <th>Rating</th>\n",
              "      <th>Price</th>\n",
              "    </tr>\n",
              "    <tr>\n",
              "      <th>Type</th>\n",
              "      <th></th>\n",
              "      <th></th>\n",
              "    </tr>\n",
              "  </thead>\n",
              "  <tbody>\n",
              "    <tr>\n",
              "      <th>0</th>\n",
              "      <td>19.000000</td>\n",
              "      <td>NaN</td>\n",
              "    </tr>\n",
              "    <tr>\n",
              "      <th>Free</th>\n",
              "      <td>4.186203</td>\n",
              "      <td>0.000000</td>\n",
              "    </tr>\n",
              "    <tr>\n",
              "      <th>Paid</th>\n",
              "      <td>4.266615</td>\n",
              "      <td>13.920837</td>\n",
              "    </tr>\n",
              "  </tbody>\n",
              "</table>\n",
              "</div>\n",
              "    <div class=\"colab-df-buttons\">\n",
              "\n",
              "  <div class=\"colab-df-container\">\n",
              "    <button class=\"colab-df-convert\" onclick=\"convertToInteractive('df-934f2885-9f5a-47a6-9176-f6c7879e0b8b')\"\n",
              "            title=\"Convert this dataframe to an interactive table.\"\n",
              "            style=\"display:none;\">\n",
              "\n",
              "  <svg xmlns=\"http://www.w3.org/2000/svg\" height=\"24px\" viewBox=\"0 -960 960 960\">\n",
              "    <path d=\"M120-120v-720h720v720H120Zm60-500h600v-160H180v160Zm220 220h160v-160H400v160Zm0 220h160v-160H400v160ZM180-400h160v-160H180v160Zm440 0h160v-160H620v160ZM180-180h160v-160H180v160Zm440 0h160v-160H620v160Z\"/>\n",
              "  </svg>\n",
              "    </button>\n",
              "\n",
              "  <style>\n",
              "    .colab-df-container {\n",
              "      display:flex;\n",
              "      gap: 12px;\n",
              "    }\n",
              "\n",
              "    .colab-df-convert {\n",
              "      background-color: #E8F0FE;\n",
              "      border: none;\n",
              "      border-radius: 50%;\n",
              "      cursor: pointer;\n",
              "      display: none;\n",
              "      fill: #1967D2;\n",
              "      height: 32px;\n",
              "      padding: 0 0 0 0;\n",
              "      width: 32px;\n",
              "    }\n",
              "\n",
              "    .colab-df-convert:hover {\n",
              "      background-color: #E2EBFA;\n",
              "      box-shadow: 0px 1px 2px rgba(60, 64, 67, 0.3), 0px 1px 3px 1px rgba(60, 64, 67, 0.15);\n",
              "      fill: #174EA6;\n",
              "    }\n",
              "\n",
              "    .colab-df-buttons div {\n",
              "      margin-bottom: 4px;\n",
              "    }\n",
              "\n",
              "    [theme=dark] .colab-df-convert {\n",
              "      background-color: #3B4455;\n",
              "      fill: #D2E3FC;\n",
              "    }\n",
              "\n",
              "    [theme=dark] .colab-df-convert:hover {\n",
              "      background-color: #434B5C;\n",
              "      box-shadow: 0px 1px 3px 1px rgba(0, 0, 0, 0.15);\n",
              "      filter: drop-shadow(0px 1px 2px rgba(0, 0, 0, 0.3));\n",
              "      fill: #FFFFFF;\n",
              "    }\n",
              "  </style>\n",
              "\n",
              "    <script>\n",
              "      const buttonEl =\n",
              "        document.querySelector('#df-934f2885-9f5a-47a6-9176-f6c7879e0b8b button.colab-df-convert');\n",
              "      buttonEl.style.display =\n",
              "        google.colab.kernel.accessAllowed ? 'block' : 'none';\n",
              "\n",
              "      async function convertToInteractive(key) {\n",
              "        const element = document.querySelector('#df-934f2885-9f5a-47a6-9176-f6c7879e0b8b');\n",
              "        const dataTable =\n",
              "          await google.colab.kernel.invokeFunction('convertToInteractive',\n",
              "                                                    [key], {});\n",
              "        if (!dataTable) return;\n",
              "\n",
              "        const docLinkHtml = 'Like what you see? Visit the ' +\n",
              "          '<a target=\"_blank\" href=https://colab.research.google.com/notebooks/data_table.ipynb>data table notebook</a>'\n",
              "          + ' to learn more about interactive tables.';\n",
              "        element.innerHTML = '';\n",
              "        dataTable['output_type'] = 'display_data';\n",
              "        await google.colab.output.renderOutput(dataTable, element);\n",
              "        const docLink = document.createElement('div');\n",
              "        docLink.innerHTML = docLinkHtml;\n",
              "        element.appendChild(docLink);\n",
              "      }\n",
              "    </script>\n",
              "  </div>\n",
              "\n",
              "\n",
              "<div id=\"df-ca5ba971-46ac-42a7-8f5b-406893ccf836\">\n",
              "  <button class=\"colab-df-quickchart\" onclick=\"quickchart('df-ca5ba971-46ac-42a7-8f5b-406893ccf836')\"\n",
              "            title=\"Suggest charts.\"\n",
              "            style=\"display:none;\">\n",
              "\n",
              "<svg xmlns=\"http://www.w3.org/2000/svg\" height=\"24px\"viewBox=\"0 0 24 24\"\n",
              "     width=\"24px\">\n",
              "    <g>\n",
              "        <path d=\"M19 3H5c-1.1 0-2 .9-2 2v14c0 1.1.9 2 2 2h14c1.1 0 2-.9 2-2V5c0-1.1-.9-2-2-2zM9 17H7v-7h2v7zm4 0h-2V7h2v10zm4 0h-2v-4h2v4z\"/>\n",
              "    </g>\n",
              "</svg>\n",
              "  </button>\n",
              "\n",
              "<style>\n",
              "  .colab-df-quickchart {\n",
              "      --bg-color: #E8F0FE;\n",
              "      --fill-color: #1967D2;\n",
              "      --hover-bg-color: #E2EBFA;\n",
              "      --hover-fill-color: #174EA6;\n",
              "      --disabled-fill-color: #AAA;\n",
              "      --disabled-bg-color: #DDD;\n",
              "  }\n",
              "\n",
              "  [theme=dark] .colab-df-quickchart {\n",
              "      --bg-color: #3B4455;\n",
              "      --fill-color: #D2E3FC;\n",
              "      --hover-bg-color: #434B5C;\n",
              "      --hover-fill-color: #FFFFFF;\n",
              "      --disabled-bg-color: #3B4455;\n",
              "      --disabled-fill-color: #666;\n",
              "  }\n",
              "\n",
              "  .colab-df-quickchart {\n",
              "    background-color: var(--bg-color);\n",
              "    border: none;\n",
              "    border-radius: 50%;\n",
              "    cursor: pointer;\n",
              "    display: none;\n",
              "    fill: var(--fill-color);\n",
              "    height: 32px;\n",
              "    padding: 0;\n",
              "    width: 32px;\n",
              "  }\n",
              "\n",
              "  .colab-df-quickchart:hover {\n",
              "    background-color: var(--hover-bg-color);\n",
              "    box-shadow: 0 1px 2px rgba(60, 64, 67, 0.3), 0 1px 3px 1px rgba(60, 64, 67, 0.15);\n",
              "    fill: var(--button-hover-fill-color);\n",
              "  }\n",
              "\n",
              "  .colab-df-quickchart-complete:disabled,\n",
              "  .colab-df-quickchart-complete:disabled:hover {\n",
              "    background-color: var(--disabled-bg-color);\n",
              "    fill: var(--disabled-fill-color);\n",
              "    box-shadow: none;\n",
              "  }\n",
              "\n",
              "  .colab-df-spinner {\n",
              "    border: 2px solid var(--fill-color);\n",
              "    border-color: transparent;\n",
              "    border-bottom-color: var(--fill-color);\n",
              "    animation:\n",
              "      spin 1s steps(1) infinite;\n",
              "  }\n",
              "\n",
              "  @keyframes spin {\n",
              "    0% {\n",
              "      border-color: transparent;\n",
              "      border-bottom-color: var(--fill-color);\n",
              "      border-left-color: var(--fill-color);\n",
              "    }\n",
              "    20% {\n",
              "      border-color: transparent;\n",
              "      border-left-color: var(--fill-color);\n",
              "      border-top-color: var(--fill-color);\n",
              "    }\n",
              "    30% {\n",
              "      border-color: transparent;\n",
              "      border-left-color: var(--fill-color);\n",
              "      border-top-color: var(--fill-color);\n",
              "      border-right-color: var(--fill-color);\n",
              "    }\n",
              "    40% {\n",
              "      border-color: transparent;\n",
              "      border-right-color: var(--fill-color);\n",
              "      border-top-color: var(--fill-color);\n",
              "    }\n",
              "    60% {\n",
              "      border-color: transparent;\n",
              "      border-right-color: var(--fill-color);\n",
              "    }\n",
              "    80% {\n",
              "      border-color: transparent;\n",
              "      border-right-color: var(--fill-color);\n",
              "      border-bottom-color: var(--fill-color);\n",
              "    }\n",
              "    90% {\n",
              "      border-color: transparent;\n",
              "      border-bottom-color: var(--fill-color);\n",
              "    }\n",
              "  }\n",
              "</style>\n",
              "\n",
              "  <script>\n",
              "    async function quickchart(key) {\n",
              "      const quickchartButtonEl =\n",
              "        document.querySelector('#' + key + ' button');\n",
              "      quickchartButtonEl.disabled = true;  // To prevent multiple clicks.\n",
              "      quickchartButtonEl.classList.add('colab-df-spinner');\n",
              "      try {\n",
              "        const charts = await google.colab.kernel.invokeFunction(\n",
              "            'suggestCharts', [key], {});\n",
              "      } catch (error) {\n",
              "        console.error('Error during call to suggestCharts:', error);\n",
              "      }\n",
              "      quickchartButtonEl.classList.remove('colab-df-spinner');\n",
              "      quickchartButtonEl.classList.add('colab-df-quickchart-complete');\n",
              "    }\n",
              "    (() => {\n",
              "      let quickchartButtonEl =\n",
              "        document.querySelector('#df-ca5ba971-46ac-42a7-8f5b-406893ccf836 button');\n",
              "      quickchartButtonEl.style.display =\n",
              "        google.colab.kernel.accessAllowed ? 'block' : 'none';\n",
              "    })();\n",
              "  </script>\n",
              "</div>\n",
              "    </div>\n",
              "  </div>\n"
            ]
          },
          "metadata": {},
          "execution_count": 9
        }
      ],
      "source": [
        "apps.groupby(apps[\"Type\"]).agg(\"mean\")"
      ]
    },
    {
      "cell_type": "markdown",
      "metadata": {
        "id": "qq5S-GGKMARj"
      },
      "source": [
        "##1.2 Plot the countplot for column Content Rating for apps dataset. (1 point)"
      ]
    },
    {
      "cell_type": "code",
      "execution_count": 2,
      "metadata": {
        "colab": {
          "base_uri": "https://localhost:8080/",
          "height": 663
        },
        "id": "UpeQybklMKxH",
        "outputId": "8c14122e-df5f-4c57-d8b9-a0691813d5c8"
      },
      "outputs": [
        {
          "output_type": "error",
          "ename": "NameError",
          "evalue": "ignored",
          "traceback": [
            "\u001b[0;31m---------------------------------------------------------------------------\u001b[0m",
            "\u001b[0;31mNameError\u001b[0m                                 Traceback (most recent call last)",
            "\u001b[0;32m<ipython-input-2-ba2db9d1d937>\u001b[0m in \u001b[0;36m<cell line: 5>\u001b[0;34m()\u001b[0m\n\u001b[1;32m      3\u001b[0m \u001b[0;34m\u001b[0m\u001b[0m\n\u001b[1;32m      4\u001b[0m \u001b[0mfig\u001b[0m\u001b[0;34m,\u001b[0m \u001b[0max\u001b[0m \u001b[0;34m=\u001b[0m \u001b[0mplt\u001b[0m\u001b[0;34m.\u001b[0m\u001b[0msubplots\u001b[0m\u001b[0;34m(\u001b[0m\u001b[0;34m)\u001b[0m\u001b[0;34m\u001b[0m\u001b[0;34m\u001b[0m\u001b[0m\n\u001b[0;32m----> 5\u001b[0;31m \u001b[0msns\u001b[0m\u001b[0;34m.\u001b[0m\u001b[0mcountplot\u001b[0m\u001b[0;34m(\u001b[0m\u001b[0my\u001b[0m\u001b[0;34m=\u001b[0m\u001b[0;34m'Content Rating'\u001b[0m\u001b[0;34m,\u001b[0m\u001b[0mdata\u001b[0m\u001b[0;34m=\u001b[0m \u001b[0mapps\u001b[0m\u001b[0;34m)\u001b[0m\u001b[0;34m\u001b[0m\u001b[0;34m\u001b[0m\u001b[0m\n\u001b[0m\u001b[1;32m      6\u001b[0m \u001b[0max\u001b[0m\u001b[0;34m.\u001b[0m\u001b[0mset_title\u001b[0m\u001b[0;34m(\u001b[0m\u001b[0;34m\"Countplot\"\u001b[0m\u001b[0;34m)\u001b[0m\u001b[0;34m\u001b[0m\u001b[0;34m\u001b[0m\u001b[0m\n\u001b[1;32m      7\u001b[0m \u001b[0max\u001b[0m\u001b[0;34m.\u001b[0m\u001b[0mset_ylabel\u001b[0m\u001b[0;34m(\u001b[0m\u001b[0;34m\"Content rating\"\u001b[0m\u001b[0;34m)\u001b[0m\u001b[0;34m;\u001b[0m\u001b[0;34m\u001b[0m\u001b[0;34m\u001b[0m\u001b[0m\n",
            "\u001b[0;31mNameError\u001b[0m: name 'apps' is not defined"
          ]
        },
        {
          "output_type": "display_data",
          "data": {
            "text/plain": [
              "<Figure size 640x480 with 1 Axes>"
            ],
            "image/png": "[encoded data removed]"
          },
          "metadata": {}
        }
      ],
      "source": [
        "import matplotlib.pyplot as plt\n",
        "import seaborn as sns\n",
        "\n",
        "fig, ax = plt.subplots()\n",
        "sns.countplot(y='Content Rating',data= apps)\n",
        "ax.set_title(\"Countplot\")\n",
        "ax.set_ylabel(\"Content rating\");\n",
        "ax.set_xlabel(\"Count\");"
      ]
    },
    {
      "cell_type": "markdown",
      "metadata": {
        "id": "FSsIe6ifOWty"
      },
      "source": [
        "##1.3 Calculate the mean size of the app for those apps that do not their size 'Varies with device' for each category. (1 point)\n"
      ]
    },
    {
      "cell_type": "code",
      "execution_count": null,
      "metadata": {
        "id": "6OL66wVxvT8p"
      },
      "outputs": [],
      "source": [
        "meansize = apps[apps[\"Size\"]!=\"Varies with device\"]\n",
        "meansize.Size = apps.Size.str[:-1]\n",
        "meansize.Size.replace('1,000',1,inplace = True)\n",
        "meansize.Size = meansize.Size.apply(float)"
      ]
    },
    {
      "cell_type": "code",
      "source": [
        "meansize.groupby(\"Category\")[\"Size\"].mean()"
      ],
      "metadata": {
        "colab": {
          "base_uri": "https://localhost:8080/"
        },
        "id": "8NhYuXdjQ4oT",
        "outputId": "20af905a-b111-4216-d4ed-446305ed4063"
      },
      "execution_count": null,
      "outputs": [
        {
          "output_type": "execute_result",
          "data": {
            "text/plain": [
              "Category\n",
              "1.9                      1.000000\n",
              "ART_AND_DESIGN          12.370968\n",
              "AUTO_AND_VEHICLES       34.502667\n",
              "BEAUTY                  13.795745\n",
              "BOOKS_AND_REFERENCE     40.349746\n",
              "BUSINESS                26.622500\n",
              "COMICS                  34.111765\n",
              "COMMUNICATION           55.786792\n",
              "DATING                  16.710377\n",
              "EDUCATION               30.528829\n",
              "ENTERTAINMENT           21.853333\n",
              "EVENTS                  19.817544\n",
              "FAMILY                  38.007697\n",
              "FINANCE                 28.894788\n",
              "FOOD_AND_DRINK          22.185000\n",
              "GAME                    45.797241\n",
              "HEALTH_AND_FITNESS      38.178030\n",
              "HOUSE_AND_HOME          25.616176\n",
              "LIBRARIES_AND_DEMO     180.834146\n",
              "LIFESTYLE               31.265507\n",
              "MAPS_AND_NAVIGATION     31.312963\n",
              "MEDICAL                 44.495853\n",
              "NEWS_AND_MAGAZINES      14.448148\n",
              "PARENTING               22.512963\n",
              "PERSONALIZATION         42.655493\n",
              "PHOTOGRAPHY             21.249606\n",
              "PRODUCTIVITY            35.628713\n",
              "SHOPPING                31.886070\n",
              "SOCIAL                  26.211429\n",
              "SPORTS                  32.475563\n",
              "TOOLS                   47.776861\n",
              "TRAVEL_AND_LOCAL        26.022917\n",
              "VIDEO_PLAYERS           22.032824\n",
              "WEATHER                 23.324561\n",
              "Name: Size, dtype: float64"
            ]
          },
          "metadata": {},
          "execution_count": 28
        }
      ]
    },
    {
      "cell_type": "markdown",
      "metadata": {
        "id": "I-QjH-psUJ0D"
      },
      "source": [
        "##1.4 Plot histogram of rating of apps (1 point)"
      ]
    },
    {
      "cell_type": "code",
      "execution_count": null,
      "metadata": {
        "colab": {
          "base_uri": "https://localhost:8080/",
          "height": 216
        },
        "id": "4N42lmbUUJgQ",
        "outputId": "41957871-ccb7-4cad-d596-67f761fcd858"
      },
      "outputs": [
        {
          "output_type": "display_data",
          "data": {
            "text/plain": [
              "<Figure size 400x200 with 1 Axes>"
            ],
            "image/png": "[encoded data removed]"
          },
          "metadata": {}
        }
      ],
      "source": [
        "plt.figure(figsize=(4,2))\n",
        "plt.hist(apps[\"Rating\"],bins=25)\n",
        "plt.show()"
      ]
    },
    {
      "cell_type": "markdown",
      "metadata": {
        "id": "dgBxdDsbSKtC"
      },
      "source": [
        "##1.5 Print top 5 most negative reviews (1 point)\n"
      ]
    },
    {
      "cell_type": "code",
      "execution_count": null,
      "metadata": {
        "id": "NY8HSqakNlOb"
      },
      "outputs": [],
      "source": [
        "apps.Reviews[apps.Reviews.str.isnumeric()==False]\n",
        "apps.Reviews[apps.Reviews.str.isnumeric()==False] = int(float(apps.Reviews[apps.Reviews.str.isnumeric()==False].str[:-1])*10**6)\n",
        "\n",
        "apps.Reviews = apps.Reviews.apply(int)"
      ]
    },
    {
      "cell_type": "code",
      "source": [
        "apps.groupby(\"Category\").Reviews.mean().sort_values(ascending=False).head(5)"
      ],
      "metadata": {
        "colab": {
          "base_uri": "https://localhost:8080/"
        },
        "id": "fZ5QfEu_rvit",
        "outputId": "2b9b935f-009f-42cb-85f3-692aa82f5e8a"
      },
      "execution_count": null,
      "outputs": [
        {
          "output_type": "execute_result",
          "data": {
            "text/plain": [
              "Category\n",
              "1.9              3.000000e+06\n",
              "COMMUNICATION    2.107138e+06\n",
              "SOCIAL           2.105903e+06\n",
              "GAME             1.385859e+06\n",
              "PHOTOGRAPHY      6.373631e+05\n",
              "Name: Reviews, dtype: float64"
            ]
          },
          "metadata": {},
          "execution_count": 50
        }
      ]
    },
    {
      "cell_type": "markdown",
      "metadata": {
        "id": "jkv0ajuMVB_W"
      },
      "source": [
        "##1.6 Print app with largest number of reviews. (1 point)\n"
      ]
    },
    {
      "cell_type": "code",
      "execution_count": null,
      "metadata": {
        "id": "YEg3uAbVVd33"
      },
      "outputs": [],
      "source": [
        "apps[[\"App\",\"Reviews\"]].sort_values(by=\"Reviews\",ascending=False)"
      ]
    },
    {
      "cell_type": "markdown",
      "metadata": {
        "id": "5Q6R0GrQWYAz"
      },
      "source": [
        "##1.7 Print percentage of positive reviews for each category (1 point)"
      ]
    },
    {
      "cell_type": "code",
      "source": [
        "merged_table = reviews.merge(apps,on=\"App\",how=\"inner\")"
      ],
      "metadata": {
        "id": "GU84gapwnUrL"
      },
      "execution_count": null,
      "outputs": []
    },
    {
      "cell_type": "code",
      "source": [
        "merged_table.groupby([\"Category\"])[\"Sentiment\"].value_counts(normalize=True)"
      ],
      "metadata": {
        "id": "4IuUDg6XooMS"
      },
      "execution_count": null,
      "outputs": []
    },
    {
      "cell_type": "code",
      "source": [
        "merged_table[merged_table[\"Sentiment\"]==\"Positive\"].groupby(\"Category\")[\"Sentiment\"].count() / merged_table.groupby(\"Category\")[\"Sentiment\"].count()*100"
      ],
      "metadata": {
        "id": "0u-p4h60pcYr"
      },
      "execution_count": null,
      "outputs": []
    },
    {
      "cell_type": "markdown",
      "metadata": {
        "id": "AZOGv5MMXA-m"
      },
      "source": [
        "##1.8 Print category of apps with lowest sentiment subjectivity (1 point)"
      ]
    },
    {
      "cell_type": "code",
      "source": [
        "merged_table"
      ],
      "metadata": {
        "id": "p8z7A3SWqdw2"
      },
      "execution_count": null,
      "outputs": []
    },
    {
      "cell_type": "code",
      "execution_count": null,
      "metadata": {
        "id": "XHpbsxshXt0z"
      },
      "outputs": [],
      "source": [
        "import numpy as np\n",
        "merged_table = merged_table[merged_table[\"Sentiment_Subjectivity\"]!=np.NaN]\n",
        "merged_table[[\"Category\",\"Sentiment_Subjectivity\"]].groupby(\"Category\").min()"
      ]
    },
    {
      "cell_type": "markdown",
      "metadata": {
        "id": "EY3s0AxBYHeb"
      },
      "source": [
        "#Plotting"
      ]
    },
    {
      "cell_type": "markdown",
      "metadata": {
        "id": "VS5EkvACWx77"
      },
      "source": [
        "## 1.9 Plot distribution of prices for Teen content Rating (1 point)"
      ]
    },
    {
      "cell_type": "markdown",
      "metadata": {
        "id": "CfeBUYtW11un"
      },
      "source": [
        "🧚 Do not forget to make title, add axes ticks and axes labels!"
      ]
    },
    {
      "cell_type": "code",
      "execution_count": 9,
      "metadata": {
        "id": "E-wT35S22L0_",
        "colab": {
          "base_uri": "https://localhost:8080/",
          "height": 349
        },
        "outputId": "60ceab3b-d208-4480-f454-7a07eadd289e"
      },
      "outputs": [
        {
          "output_type": "display_data",
          "data": {
            "text/plain": [
              "<Figure size 1600x600 with 1 Axes>"
            ],
            "image/png": "[encoded data removed]"
          },
          "metadata": {}
        }
      ],
      "source": [
        "teenContent = apps[apps[\"Content Rating\"] == \"Teen\"]\n",
        "plt.figure(figsize=(16,6))\n",
        "plt.hist(teenContent['Price'],bins=25)\n",
        "\n",
        "plt.show()"
      ]
    },
    {
      "cell_type": "markdown",
      "metadata": {
        "id": "dcOroTmhYLk6"
      },
      "source": [
        "##1.10 Plot boxplot of rating for Paid and Free on same graph but different axes (1 point)"
      ]
    },
    {
      "cell_type": "code",
      "execution_count": null,
      "metadata": {
        "id": "D5jVQHqrYLB7"
      },
      "outputs": [],
      "source": [
        "dataPaid = apps[apps[\"Type\"]==\"Paid\"]\n",
        "dataFree = apps[apps[\"Type\"]==\"Free\"]"
      ]
    },
    {
      "cell_type": "code",
      "source": [
        "fig, axes = plt.subplots(1,2,figsize = (10,5))\n",
        "sns.boxplot(ax=axes[0],data=dataPaid,x=\"Type\",y=\"Rating\")\n",
        "sns.boxplot(ax=axes[1],data=dataFree,x=\"Type\",y=\"Rating\")\n",
        "fig.show()"
      ],
      "metadata": {
        "colab": {
          "base_uri": "https://localhost:8080/",
          "height": 465
        },
        "id": "UadQlMTyi5ic",
        "outputId": "1a161118-0eb8-4ee1-e163-b4e77a7b22d6"
      },
      "execution_count": null,
      "outputs": [
        {
          "output_type": "display_data",
          "data": {
            "text/plain": [
              "<Figure size 1000x500 with 2 Axes>"
            ],
            "image/png": "[encoded data removed]"
          },
          "metadata": {}
        }
      ]
    }
  ],
  "metadata": {
    "colab": {
      "toc_visible": true,
      "provenance": []
    },
    "kernelspec": {
      "display_name": "Python 3",
      "name": "python3"
    },
    "language_info": {
      "name": "python"
    }
  },
  "nbformat": 4,
  "nbformat_minor": 0
}